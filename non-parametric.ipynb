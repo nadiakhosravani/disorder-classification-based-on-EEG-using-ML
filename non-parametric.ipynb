{
 "cells": [
  {
   "cell_type": "code",
   "execution_count": 10,
   "id": "480cd174-edcb-4d0e-b3c0-1309205e3a0c",
   "metadata": {},
   "outputs": [],
   "source": [
    "import pandas as pd\n",
    "import numpy as np\n",
    "import matplotlib.pyplot as plt\n",
    "from matplotlib.pyplot import figure"
   ]
  },
  {
   "cell_type": "code",
   "execution_count": 11,
   "id": "d3cb14b4-1702-4cf8-8720-e158cdc00a90",
   "metadata": {
    "tags": []
   },
   "outputs": [
    {
     "data": {
      "text/html": [
       "<div>\n",
       "<style scoped>\n",
       "    .dataframe tbody tr th:only-of-type {\n",
       "        vertical-align: middle;\n",
       "    }\n",
       "\n",
       "    .dataframe tbody tr th {\n",
       "        vertical-align: top;\n",
       "    }\n",
       "\n",
       "    .dataframe thead th {\n",
       "        text-align: right;\n",
       "    }\n",
       "</style>\n",
       "<table border=\"1\" class=\"dataframe\">\n",
       "  <thead>\n",
       "    <tr style=\"text-align: right;\">\n",
       "      <th></th>\n",
       "      <th>no.</th>\n",
       "      <th>sex</th>\n",
       "      <th>age</th>\n",
       "      <th>eeg.date</th>\n",
       "      <th>education</th>\n",
       "      <th>IQ</th>\n",
       "      <th>main.disorder</th>\n",
       "      <th>specific.disorder</th>\n",
       "      <th>AB.A.delta.a.FP1</th>\n",
       "      <th>AB.A.delta.b.FP2</th>\n",
       "      <th>...</th>\n",
       "      <th>COH.F.gamma.o.Pz.p.P4</th>\n",
       "      <th>COH.F.gamma.o.Pz.q.T6</th>\n",
       "      <th>COH.F.gamma.o.Pz.r.O1</th>\n",
       "      <th>COH.F.gamma.o.Pz.s.O2</th>\n",
       "      <th>COH.F.gamma.p.P4.q.T6</th>\n",
       "      <th>COH.F.gamma.p.P4.r.O1</th>\n",
       "      <th>COH.F.gamma.p.P4.s.O2</th>\n",
       "      <th>COH.F.gamma.q.T6.r.O1</th>\n",
       "      <th>COH.F.gamma.q.T6.s.O2</th>\n",
       "      <th>COH.F.gamma.r.O1.s.O2</th>\n",
       "    </tr>\n",
       "  </thead>\n",
       "  <tbody>\n",
       "    <tr>\n",
       "      <th>0</th>\n",
       "      <td>1</td>\n",
       "      <td>M</td>\n",
       "      <td>57.0</td>\n",
       "      <td>2012.8.30</td>\n",
       "      <td>NaN</td>\n",
       "      <td>NaN</td>\n",
       "      <td>Addictive disorder</td>\n",
       "      <td>Alcohol use disorder</td>\n",
       "      <td>35.998557</td>\n",
       "      <td>21.717375</td>\n",
       "      <td>...</td>\n",
       "      <td>55.989192</td>\n",
       "      <td>16.739679</td>\n",
       "      <td>23.452271</td>\n",
       "      <td>45.678820</td>\n",
       "      <td>30.167520</td>\n",
       "      <td>16.918761</td>\n",
       "      <td>48.850427</td>\n",
       "      <td>9.422630</td>\n",
       "      <td>34.507082</td>\n",
       "      <td>28.613029</td>\n",
       "    </tr>\n",
       "    <tr>\n",
       "      <th>1</th>\n",
       "      <td>2</td>\n",
       "      <td>M</td>\n",
       "      <td>37.0</td>\n",
       "      <td>2012.9.6</td>\n",
       "      <td>6.0</td>\n",
       "      <td>120.0</td>\n",
       "      <td>Addictive disorder</td>\n",
       "      <td>Alcohol use disorder</td>\n",
       "      <td>13.425118</td>\n",
       "      <td>11.002916</td>\n",
       "      <td>...</td>\n",
       "      <td>45.595619</td>\n",
       "      <td>17.510824</td>\n",
       "      <td>26.777368</td>\n",
       "      <td>28.201062</td>\n",
       "      <td>57.108861</td>\n",
       "      <td>32.375401</td>\n",
       "      <td>60.351749</td>\n",
       "      <td>13.900981</td>\n",
       "      <td>57.831848</td>\n",
       "      <td>43.463261</td>\n",
       "    </tr>\n",
       "    <tr>\n",
       "      <th>2</th>\n",
       "      <td>3</td>\n",
       "      <td>M</td>\n",
       "      <td>32.0</td>\n",
       "      <td>2012.9.10</td>\n",
       "      <td>16.0</td>\n",
       "      <td>113.0</td>\n",
       "      <td>Addictive disorder</td>\n",
       "      <td>Alcohol use disorder</td>\n",
       "      <td>29.941780</td>\n",
       "      <td>27.544684</td>\n",
       "      <td>...</td>\n",
       "      <td>99.475453</td>\n",
       "      <td>70.654171</td>\n",
       "      <td>39.131547</td>\n",
       "      <td>69.920996</td>\n",
       "      <td>71.063644</td>\n",
       "      <td>38.534505</td>\n",
       "      <td>69.908764</td>\n",
       "      <td>27.180532</td>\n",
       "      <td>64.803155</td>\n",
       "      <td>31.485799</td>\n",
       "    </tr>\n",
       "    <tr>\n",
       "      <th>3</th>\n",
       "      <td>4</td>\n",
       "      <td>M</td>\n",
       "      <td>35.0</td>\n",
       "      <td>2012.10.8</td>\n",
       "      <td>18.0</td>\n",
       "      <td>126.0</td>\n",
       "      <td>Addictive disorder</td>\n",
       "      <td>Alcohol use disorder</td>\n",
       "      <td>21.496226</td>\n",
       "      <td>21.846832</td>\n",
       "      <td>...</td>\n",
       "      <td>59.986561</td>\n",
       "      <td>63.822201</td>\n",
       "      <td>36.478254</td>\n",
       "      <td>47.117006</td>\n",
       "      <td>84.658376</td>\n",
       "      <td>24.724096</td>\n",
       "      <td>50.299349</td>\n",
       "      <td>35.319695</td>\n",
       "      <td>79.822944</td>\n",
       "      <td>41.141873</td>\n",
       "    </tr>\n",
       "    <tr>\n",
       "      <th>4</th>\n",
       "      <td>5</td>\n",
       "      <td>M</td>\n",
       "      <td>36.0</td>\n",
       "      <td>2012.10.18</td>\n",
       "      <td>16.0</td>\n",
       "      <td>112.0</td>\n",
       "      <td>Addictive disorder</td>\n",
       "      <td>Alcohol use disorder</td>\n",
       "      <td>37.775667</td>\n",
       "      <td>33.607679</td>\n",
       "      <td>...</td>\n",
       "      <td>61.462720</td>\n",
       "      <td>59.166097</td>\n",
       "      <td>51.465531</td>\n",
       "      <td>58.635415</td>\n",
       "      <td>80.685608</td>\n",
       "      <td>62.138436</td>\n",
       "      <td>75.888749</td>\n",
       "      <td>61.003944</td>\n",
       "      <td>87.455509</td>\n",
       "      <td>70.531662</td>\n",
       "    </tr>\n",
       "  </tbody>\n",
       "</table>\n",
       "<p>5 rows × 1149 columns</p>\n",
       "</div>"
      ],
      "text/plain": [
       "   no. sex   age    eeg.date  education     IQ       main.disorder  \\\n",
       "0    1   M  57.0   2012.8.30        NaN    NaN  Addictive disorder   \n",
       "1    2   M  37.0    2012.9.6        6.0  120.0  Addictive disorder   \n",
       "2    3   M  32.0   2012.9.10       16.0  113.0  Addictive disorder   \n",
       "3    4   M  35.0   2012.10.8       18.0  126.0  Addictive disorder   \n",
       "4    5   M  36.0  2012.10.18       16.0  112.0  Addictive disorder   \n",
       "\n",
       "      specific.disorder  AB.A.delta.a.FP1  AB.A.delta.b.FP2  ...  \\\n",
       "0  Alcohol use disorder         35.998557         21.717375  ...   \n",
       "1  Alcohol use disorder         13.425118         11.002916  ...   \n",
       "2  Alcohol use disorder         29.941780         27.544684  ...   \n",
       "3  Alcohol use disorder         21.496226         21.846832  ...   \n",
       "4  Alcohol use disorder         37.775667         33.607679  ...   \n",
       "\n",
       "   COH.F.gamma.o.Pz.p.P4  COH.F.gamma.o.Pz.q.T6  COH.F.gamma.o.Pz.r.O1  \\\n",
       "0              55.989192              16.739679              23.452271   \n",
       "1              45.595619              17.510824              26.777368   \n",
       "2              99.475453              70.654171              39.131547   \n",
       "3              59.986561              63.822201              36.478254   \n",
       "4              61.462720              59.166097              51.465531   \n",
       "\n",
       "   COH.F.gamma.o.Pz.s.O2  COH.F.gamma.p.P4.q.T6  COH.F.gamma.p.P4.r.O1  \\\n",
       "0              45.678820              30.167520              16.918761   \n",
       "1              28.201062              57.108861              32.375401   \n",
       "2              69.920996              71.063644              38.534505   \n",
       "3              47.117006              84.658376              24.724096   \n",
       "4              58.635415              80.685608              62.138436   \n",
       "\n",
       "   COH.F.gamma.p.P4.s.O2  COH.F.gamma.q.T6.r.O1  COH.F.gamma.q.T6.s.O2  \\\n",
       "0              48.850427               9.422630              34.507082   \n",
       "1              60.351749              13.900981              57.831848   \n",
       "2              69.908764              27.180532              64.803155   \n",
       "3              50.299349              35.319695              79.822944   \n",
       "4              75.888749              61.003944              87.455509   \n",
       "\n",
       "   COH.F.gamma.r.O1.s.O2  \n",
       "0              28.613029  \n",
       "1              43.463261  \n",
       "2              31.485799  \n",
       "3              41.141873  \n",
       "4              70.531662  \n",
       "\n",
       "[5 rows x 1149 columns]"
      ]
     },
     "execution_count": 11,
     "metadata": {},
     "output_type": "execute_result"
    }
   ],
   "source": [
    "data = pd.read_csv('EEG.machinelearing_data_BRMH.csv')\n",
    "data.head()"
   ]
  },
  {
   "cell_type": "code",
   "execution_count": 3,
   "id": "f53d3854-43da-4a1f-a984-90d6175d4c92",
   "metadata": {
    "tags": []
   },
   "outputs": [
    {
     "data": {
      "text/plain": [
       "(945, 1149)"
      ]
     },
     "execution_count": 3,
     "metadata": {},
     "output_type": "execute_result"
    }
   ],
   "source": [
    "data.shape"
   ]
  },
  {
   "cell_type": "code",
   "execution_count": 4,
   "id": "a3bf4923-98df-4b95-a378-74d572f56617",
   "metadata": {
    "tags": []
   },
   "outputs": [
    {
     "data": {
      "text/html": [
       "<div>\n",
       "<style scoped>\n",
       "    .dataframe tbody tr th:only-of-type {\n",
       "        vertical-align: middle;\n",
       "    }\n",
       "\n",
       "    .dataframe tbody tr th {\n",
       "        vertical-align: top;\n",
       "    }\n",
       "\n",
       "    .dataframe thead th {\n",
       "        text-align: right;\n",
       "    }\n",
       "</style>\n",
       "<table border=\"1\" class=\"dataframe\">\n",
       "  <thead>\n",
       "    <tr style=\"text-align: right;\">\n",
       "      <th></th>\n",
       "      <th>no.</th>\n",
       "      <th>age</th>\n",
       "      <th>education</th>\n",
       "      <th>IQ</th>\n",
       "      <th>AB.A.delta.a.FP1</th>\n",
       "      <th>AB.A.delta.b.FP2</th>\n",
       "      <th>AB.A.delta.c.F7</th>\n",
       "      <th>AB.A.delta.d.F3</th>\n",
       "      <th>AB.A.delta.e.Fz</th>\n",
       "      <th>AB.A.delta.f.F4</th>\n",
       "      <th>...</th>\n",
       "      <th>COH.F.gamma.o.Pz.p.P4</th>\n",
       "      <th>COH.F.gamma.o.Pz.q.T6</th>\n",
       "      <th>COH.F.gamma.o.Pz.r.O1</th>\n",
       "      <th>COH.F.gamma.o.Pz.s.O2</th>\n",
       "      <th>COH.F.gamma.p.P4.q.T6</th>\n",
       "      <th>COH.F.gamma.p.P4.r.O1</th>\n",
       "      <th>COH.F.gamma.p.P4.s.O2</th>\n",
       "      <th>COH.F.gamma.q.T6.r.O1</th>\n",
       "      <th>COH.F.gamma.q.T6.s.O2</th>\n",
       "      <th>COH.F.gamma.r.O1.s.O2</th>\n",
       "    </tr>\n",
       "  </thead>\n",
       "  <tbody>\n",
       "    <tr>\n",
       "      <th>count</th>\n",
       "      <td>945.000000</td>\n",
       "      <td>945.000000</td>\n",
       "      <td>930.000000</td>\n",
       "      <td>932.000000</td>\n",
       "      <td>945.000000</td>\n",
       "      <td>945.000000</td>\n",
       "      <td>945.000000</td>\n",
       "      <td>945.000000</td>\n",
       "      <td>945.000000</td>\n",
       "      <td>945.000000</td>\n",
       "      <td>...</td>\n",
       "      <td>945.000000</td>\n",
       "      <td>945.000000</td>\n",
       "      <td>945.000000</td>\n",
       "      <td>945.000000</td>\n",
       "      <td>945.000000</td>\n",
       "      <td>945.000000</td>\n",
       "      <td>945.000000</td>\n",
       "      <td>945.000000</td>\n",
       "      <td>945.000000</td>\n",
       "      <td>945.000000</td>\n",
       "    </tr>\n",
       "    <tr>\n",
       "      <th>mean</th>\n",
       "      <td>473.000000</td>\n",
       "      <td>30.594804</td>\n",
       "      <td>13.438710</td>\n",
       "      <td>101.580472</td>\n",
       "      <td>20.182936</td>\n",
       "      <td>21.177584</td>\n",
       "      <td>17.749553</td>\n",
       "      <td>18.901698</td>\n",
       "      <td>20.447079</td>\n",
       "      <td>19.490329</td>\n",
       "      <td>...</td>\n",
       "      <td>75.889633</td>\n",
       "      <td>55.049113</td>\n",
       "      <td>56.959796</td>\n",
       "      <td>60.739169</td>\n",
       "      <td>69.829254</td>\n",
       "      <td>47.862489</td>\n",
       "      <td>66.832798</td>\n",
       "      <td>39.301406</td>\n",
       "      <td>66.153213</td>\n",
       "      <td>57.056207</td>\n",
       "    </tr>\n",
       "    <tr>\n",
       "      <th>std</th>\n",
       "      <td>272.942302</td>\n",
       "      <td>11.781592</td>\n",
       "      <td>2.550461</td>\n",
       "      <td>17.022414</td>\n",
       "      <td>11.282022</td>\n",
       "      <td>12.230662</td>\n",
       "      <td>10.003598</td>\n",
       "      <td>9.079482</td>\n",
       "      <td>9.742912</td>\n",
       "      <td>9.252500</td>\n",
       "      <td>...</td>\n",
       "      <td>15.861641</td>\n",
       "      <td>19.541956</td>\n",
       "      <td>18.326785</td>\n",
       "      <td>18.052887</td>\n",
       "      <td>17.725321</td>\n",
       "      <td>19.685722</td>\n",
       "      <td>17.028701</td>\n",
       "      <td>20.790933</td>\n",
       "      <td>18.088548</td>\n",
       "      <td>19.600107</td>\n",
       "    </tr>\n",
       "    <tr>\n",
       "      <th>min</th>\n",
       "      <td>1.000000</td>\n",
       "      <td>18.000000</td>\n",
       "      <td>0.000000</td>\n",
       "      <td>49.000000</td>\n",
       "      <td>3.272260</td>\n",
       "      <td>3.244199</td>\n",
       "      <td>3.050507</td>\n",
       "      <td>3.412618</td>\n",
       "      <td>5.066593</td>\n",
       "      <td>4.048931</td>\n",
       "      <td>...</td>\n",
       "      <td>12.611954</td>\n",
       "      <td>0.519048</td>\n",
       "      <td>6.926792</td>\n",
       "      <td>0.708008</td>\n",
       "      <td>2.421748</td>\n",
       "      <td>0.036664</td>\n",
       "      <td>1.032207</td>\n",
       "      <td>1.228502</td>\n",
       "      <td>0.363268</td>\n",
       "      <td>3.988805</td>\n",
       "    </tr>\n",
       "    <tr>\n",
       "      <th>25%</th>\n",
       "      <td>237.000000</td>\n",
       "      <td>21.730000</td>\n",
       "      <td>12.000000</td>\n",
       "      <td>91.000000</td>\n",
       "      <td>12.784872</td>\n",
       "      <td>13.019269</td>\n",
       "      <td>11.134327</td>\n",
       "      <td>12.460586</td>\n",
       "      <td>13.548645</td>\n",
       "      <td>12.637717</td>\n",
       "      <td>...</td>\n",
       "      <td>68.014443</td>\n",
       "      <td>41.607506</td>\n",
       "      <td>43.682444</td>\n",
       "      <td>48.374883</td>\n",
       "      <td>58.937785</td>\n",
       "      <td>32.581046</td>\n",
       "      <td>55.872070</td>\n",
       "      <td>22.049743</td>\n",
       "      <td>54.710605</td>\n",
       "      <td>43.955229</td>\n",
       "    </tr>\n",
       "    <tr>\n",
       "      <th>50%</th>\n",
       "      <td>473.000000</td>\n",
       "      <td>26.150000</td>\n",
       "      <td>13.000000</td>\n",
       "      <td>102.000000</td>\n",
       "      <td>17.065286</td>\n",
       "      <td>17.838251</td>\n",
       "      <td>15.541469</td>\n",
       "      <td>16.733004</td>\n",
       "      <td>18.065276</td>\n",
       "      <td>17.432568</td>\n",
       "      <td>...</td>\n",
       "      <td>78.647712</td>\n",
       "      <td>55.158858</td>\n",
       "      <td>56.657348</td>\n",
       "      <td>61.257972</td>\n",
       "      <td>72.298636</td>\n",
       "      <td>45.719426</td>\n",
       "      <td>68.238375</td>\n",
       "      <td>36.549938</td>\n",
       "      <td>67.988937</td>\n",
       "      <td>57.515871</td>\n",
       "    </tr>\n",
       "    <tr>\n",
       "      <th>75%</th>\n",
       "      <td>709.000000</td>\n",
       "      <td>35.450000</td>\n",
       "      <td>16.000000</td>\n",
       "      <td>114.000000</td>\n",
       "      <td>24.492760</td>\n",
       "      <td>25.654394</td>\n",
       "      <td>21.623961</td>\n",
       "      <td>23.347900</td>\n",
       "      <td>25.573096</td>\n",
       "      <td>23.956748</td>\n",
       "      <td>...</td>\n",
       "      <td>87.398387</td>\n",
       "      <td>69.740640</td>\n",
       "      <td>70.649245</td>\n",
       "      <td>73.979100</td>\n",
       "      <td>83.066877</td>\n",
       "      <td>62.081839</td>\n",
       "      <td>79.192418</td>\n",
       "      <td>54.169209</td>\n",
       "      <td>79.527764</td>\n",
       "      <td>71.626382</td>\n",
       "    </tr>\n",
       "    <tr>\n",
       "      <th>max</th>\n",
       "      <td>945.000000</td>\n",
       "      <td>71.880000</td>\n",
       "      <td>20.000000</td>\n",
       "      <td>145.000000</td>\n",
       "      <td>92.826192</td>\n",
       "      <td>101.515687</td>\n",
       "      <td>91.373456</td>\n",
       "      <td>82.544167</td>\n",
       "      <td>101.566662</td>\n",
       "      <td>77.197502</td>\n",
       "      <td>...</td>\n",
       "      <td>99.678649</td>\n",
       "      <td>100.000000</td>\n",
       "      <td>99.307895</td>\n",
       "      <td>100.000000</td>\n",
       "      <td>99.581629</td>\n",
       "      <td>98.720067</td>\n",
       "      <td>99.650154</td>\n",
       "      <td>98.413320</td>\n",
       "      <td>100.000000</td>\n",
       "      <td>99.287092</td>\n",
       "    </tr>\n",
       "  </tbody>\n",
       "</table>\n",
       "<p>8 rows × 1145 columns</p>\n",
       "</div>"
      ],
      "text/plain": [
       "              no.         age   education          IQ  AB.A.delta.a.FP1  \\\n",
       "count  945.000000  945.000000  930.000000  932.000000        945.000000   \n",
       "mean   473.000000   30.594804   13.438710  101.580472         20.182936   \n",
       "std    272.942302   11.781592    2.550461   17.022414         11.282022   \n",
       "min      1.000000   18.000000    0.000000   49.000000          3.272260   \n",
       "25%    237.000000   21.730000   12.000000   91.000000         12.784872   \n",
       "50%    473.000000   26.150000   13.000000  102.000000         17.065286   \n",
       "75%    709.000000   35.450000   16.000000  114.000000         24.492760   \n",
       "max    945.000000   71.880000   20.000000  145.000000         92.826192   \n",
       "\n",
       "       AB.A.delta.b.FP2  AB.A.delta.c.F7  AB.A.delta.d.F3  AB.A.delta.e.Fz  \\\n",
       "count        945.000000       945.000000       945.000000       945.000000   \n",
       "mean          21.177584        17.749553        18.901698        20.447079   \n",
       "std           12.230662        10.003598         9.079482         9.742912   \n",
       "min            3.244199         3.050507         3.412618         5.066593   \n",
       "25%           13.019269        11.134327        12.460586        13.548645   \n",
       "50%           17.838251        15.541469        16.733004        18.065276   \n",
       "75%           25.654394        21.623961        23.347900        25.573096   \n",
       "max          101.515687        91.373456        82.544167       101.566662   \n",
       "\n",
       "       AB.A.delta.f.F4  ...  COH.F.gamma.o.Pz.p.P4  COH.F.gamma.o.Pz.q.T6  \\\n",
       "count       945.000000  ...             945.000000             945.000000   \n",
       "mean         19.490329  ...              75.889633              55.049113   \n",
       "std           9.252500  ...              15.861641              19.541956   \n",
       "min           4.048931  ...              12.611954               0.519048   \n",
       "25%          12.637717  ...              68.014443              41.607506   \n",
       "50%          17.432568  ...              78.647712              55.158858   \n",
       "75%          23.956748  ...              87.398387              69.740640   \n",
       "max          77.197502  ...              99.678649             100.000000   \n",
       "\n",
       "       COH.F.gamma.o.Pz.r.O1  COH.F.gamma.o.Pz.s.O2  COH.F.gamma.p.P4.q.T6  \\\n",
       "count             945.000000             945.000000             945.000000   \n",
       "mean               56.959796              60.739169              69.829254   \n",
       "std                18.326785              18.052887              17.725321   \n",
       "min                 6.926792               0.708008               2.421748   \n",
       "25%                43.682444              48.374883              58.937785   \n",
       "50%                56.657348              61.257972              72.298636   \n",
       "75%                70.649245              73.979100              83.066877   \n",
       "max                99.307895             100.000000              99.581629   \n",
       "\n",
       "       COH.F.gamma.p.P4.r.O1  COH.F.gamma.p.P4.s.O2  COH.F.gamma.q.T6.r.O1  \\\n",
       "count             945.000000             945.000000             945.000000   \n",
       "mean               47.862489              66.832798              39.301406   \n",
       "std                19.685722              17.028701              20.790933   \n",
       "min                 0.036664               1.032207               1.228502   \n",
       "25%                32.581046              55.872070              22.049743   \n",
       "50%                45.719426              68.238375              36.549938   \n",
       "75%                62.081839              79.192418              54.169209   \n",
       "max                98.720067              99.650154              98.413320   \n",
       "\n",
       "       COH.F.gamma.q.T6.s.O2  COH.F.gamma.r.O1.s.O2  \n",
       "count             945.000000             945.000000  \n",
       "mean               66.153213              57.056207  \n",
       "std                18.088548              19.600107  \n",
       "min                 0.363268               3.988805  \n",
       "25%                54.710605              43.955229  \n",
       "50%                67.988937              57.515871  \n",
       "75%                79.527764              71.626382  \n",
       "max               100.000000              99.287092  \n",
       "\n",
       "[8 rows x 1145 columns]"
      ]
     },
     "execution_count": 4,
     "metadata": {},
     "output_type": "execute_result"
    }
   ],
   "source": [
    "data.describe()"
   ]
  },
  {
   "cell_type": "code",
   "execution_count": 5,
   "id": "231d1c84-1497-4aa5-a909-ce967bb91c94",
   "metadata": {
    "tags": []
   },
   "outputs": [
    {
     "data": {
      "text/plain": [
       "no.                       0\n",
       "sex                       0\n",
       "age                       0\n",
       "eeg.date                  0\n",
       "education                15\n",
       "                         ..\n",
       "COH.F.gamma.p.P4.r.O1     0\n",
       "COH.F.gamma.p.P4.s.O2     0\n",
       "COH.F.gamma.q.T6.r.O1     0\n",
       "COH.F.gamma.q.T6.s.O2     0\n",
       "COH.F.gamma.r.O1.s.O2     0\n",
       "Length: 1149, dtype: int64"
      ]
     },
     "execution_count": 5,
     "metadata": {},
     "output_type": "execute_result"
    }
   ],
   "source": [
    "data.isnull().sum()"
   ]
  },
  {
   "cell_type": "code",
   "execution_count": 6,
   "id": "50da776f-7bcf-43d0-9416-2e7be4c64fdb",
   "metadata": {
    "tags": []
   },
   "outputs": [
    {
     "data": {
      "text/plain": [
       "15"
      ]
     },
     "execution_count": 6,
     "metadata": {},
     "output_type": "execute_result"
    }
   ],
   "source": [
    "data.education.isnull().sum()"
   ]
  },
  {
   "cell_type": "code",
   "execution_count": 7,
   "id": "75a9ed89-42a8-417b-8514-1bf6e0a84c3d",
   "metadata": {
    "tags": []
   },
   "outputs": [
    {
     "data": {
      "text/plain": [
       "13"
      ]
     },
     "execution_count": 7,
     "metadata": {},
     "output_type": "execute_result"
    }
   ],
   "source": [
    "data.IQ.isnull().sum()"
   ]
  },
  {
   "cell_type": "code",
   "execution_count": 8,
   "id": "da2b6c87-5613-444b-a137-edcb71d08c2a",
   "metadata": {
    "tags": []
   },
   "outputs": [
    {
     "data": {
      "text/html": [
       "<div>\n",
       "<style scoped>\n",
       "    .dataframe tbody tr th:only-of-type {\n",
       "        vertical-align: middle;\n",
       "    }\n",
       "\n",
       "    .dataframe tbody tr th {\n",
       "        vertical-align: top;\n",
       "    }\n",
       "\n",
       "    .dataframe thead th {\n",
       "        text-align: right;\n",
       "    }\n",
       "</style>\n",
       "<table border=\"1\" class=\"dataframe\">\n",
       "  <thead>\n",
       "    <tr style=\"text-align: right;\">\n",
       "      <th></th>\n",
       "      <th>main.disorder</th>\n",
       "      <th>specific.disorder</th>\n",
       "      <th>AB.A.delta.a.FP1</th>\n",
       "      <th>AB.A.delta.b.FP2</th>\n",
       "      <th>AB.A.delta.c.F7</th>\n",
       "      <th>AB.A.delta.d.F3</th>\n",
       "      <th>AB.A.delta.e.Fz</th>\n",
       "      <th>AB.A.delta.f.F4</th>\n",
       "      <th>AB.A.delta.g.F8</th>\n",
       "      <th>AB.A.delta.h.T3</th>\n",
       "      <th>...</th>\n",
       "      <th>COH.F.gamma.o.Pz.p.P4</th>\n",
       "      <th>COH.F.gamma.o.Pz.q.T6</th>\n",
       "      <th>COH.F.gamma.o.Pz.r.O1</th>\n",
       "      <th>COH.F.gamma.o.Pz.s.O2</th>\n",
       "      <th>COH.F.gamma.p.P4.q.T6</th>\n",
       "      <th>COH.F.gamma.p.P4.r.O1</th>\n",
       "      <th>COH.F.gamma.p.P4.s.O2</th>\n",
       "      <th>COH.F.gamma.q.T6.r.O1</th>\n",
       "      <th>COH.F.gamma.q.T6.s.O2</th>\n",
       "      <th>COH.F.gamma.r.O1.s.O2</th>\n",
       "    </tr>\n",
       "  </thead>\n",
       "  <tbody>\n",
       "    <tr>\n",
       "      <th>0</th>\n",
       "      <td>Addictive disorder</td>\n",
       "      <td>Alcohol use disorder</td>\n",
       "      <td>35.998557</td>\n",
       "      <td>21.717375</td>\n",
       "      <td>21.518280</td>\n",
       "      <td>26.825048</td>\n",
       "      <td>26.611516</td>\n",
       "      <td>25.732649</td>\n",
       "      <td>16.563408</td>\n",
       "      <td>29.891368</td>\n",
       "      <td>...</td>\n",
       "      <td>55.989192</td>\n",
       "      <td>16.739679</td>\n",
       "      <td>23.452271</td>\n",
       "      <td>45.678820</td>\n",
       "      <td>30.167520</td>\n",
       "      <td>16.918761</td>\n",
       "      <td>48.850427</td>\n",
       "      <td>9.422630</td>\n",
       "      <td>34.507082</td>\n",
       "      <td>28.613029</td>\n",
       "    </tr>\n",
       "    <tr>\n",
       "      <th>1</th>\n",
       "      <td>Addictive disorder</td>\n",
       "      <td>Alcohol use disorder</td>\n",
       "      <td>13.425118</td>\n",
       "      <td>11.002916</td>\n",
       "      <td>11.942516</td>\n",
       "      <td>15.272216</td>\n",
       "      <td>14.151570</td>\n",
       "      <td>12.456034</td>\n",
       "      <td>8.436832</td>\n",
       "      <td>9.975238</td>\n",
       "      <td>...</td>\n",
       "      <td>45.595619</td>\n",
       "      <td>17.510824</td>\n",
       "      <td>26.777368</td>\n",
       "      <td>28.201062</td>\n",
       "      <td>57.108861</td>\n",
       "      <td>32.375401</td>\n",
       "      <td>60.351749</td>\n",
       "      <td>13.900981</td>\n",
       "      <td>57.831848</td>\n",
       "      <td>43.463261</td>\n",
       "    </tr>\n",
       "    <tr>\n",
       "      <th>2</th>\n",
       "      <td>Addictive disorder</td>\n",
       "      <td>Alcohol use disorder</td>\n",
       "      <td>29.941780</td>\n",
       "      <td>27.544684</td>\n",
       "      <td>17.150159</td>\n",
       "      <td>23.608960</td>\n",
       "      <td>27.087811</td>\n",
       "      <td>13.541237</td>\n",
       "      <td>16.523963</td>\n",
       "      <td>12.775574</td>\n",
       "      <td>...</td>\n",
       "      <td>99.475453</td>\n",
       "      <td>70.654171</td>\n",
       "      <td>39.131547</td>\n",
       "      <td>69.920996</td>\n",
       "      <td>71.063644</td>\n",
       "      <td>38.534505</td>\n",
       "      <td>69.908764</td>\n",
       "      <td>27.180532</td>\n",
       "      <td>64.803155</td>\n",
       "      <td>31.485799</td>\n",
       "    </tr>\n",
       "    <tr>\n",
       "      <th>3</th>\n",
       "      <td>Addictive disorder</td>\n",
       "      <td>Alcohol use disorder</td>\n",
       "      <td>21.496226</td>\n",
       "      <td>21.846832</td>\n",
       "      <td>17.364316</td>\n",
       "      <td>13.833701</td>\n",
       "      <td>14.100954</td>\n",
       "      <td>13.100939</td>\n",
       "      <td>14.613650</td>\n",
       "      <td>8.063191</td>\n",
       "      <td>...</td>\n",
       "      <td>59.986561</td>\n",
       "      <td>63.822201</td>\n",
       "      <td>36.478254</td>\n",
       "      <td>47.117006</td>\n",
       "      <td>84.658376</td>\n",
       "      <td>24.724096</td>\n",
       "      <td>50.299349</td>\n",
       "      <td>35.319695</td>\n",
       "      <td>79.822944</td>\n",
       "      <td>41.141873</td>\n",
       "    </tr>\n",
       "    <tr>\n",
       "      <th>4</th>\n",
       "      <td>Addictive disorder</td>\n",
       "      <td>Alcohol use disorder</td>\n",
       "      <td>37.775667</td>\n",
       "      <td>33.607679</td>\n",
       "      <td>21.865556</td>\n",
       "      <td>21.771413</td>\n",
       "      <td>22.854536</td>\n",
       "      <td>21.456377</td>\n",
       "      <td>15.969042</td>\n",
       "      <td>9.434306</td>\n",
       "      <td>...</td>\n",
       "      <td>61.462720</td>\n",
       "      <td>59.166097</td>\n",
       "      <td>51.465531</td>\n",
       "      <td>58.635415</td>\n",
       "      <td>80.685608</td>\n",
       "      <td>62.138436</td>\n",
       "      <td>75.888749</td>\n",
       "      <td>61.003944</td>\n",
       "      <td>87.455509</td>\n",
       "      <td>70.531662</td>\n",
       "    </tr>\n",
       "  </tbody>\n",
       "</table>\n",
       "<p>5 rows × 1143 columns</p>\n",
       "</div>"
      ],
      "text/plain": [
       "        main.disorder     specific.disorder  AB.A.delta.a.FP1  \\\n",
       "0  Addictive disorder  Alcohol use disorder         35.998557   \n",
       "1  Addictive disorder  Alcohol use disorder         13.425118   \n",
       "2  Addictive disorder  Alcohol use disorder         29.941780   \n",
       "3  Addictive disorder  Alcohol use disorder         21.496226   \n",
       "4  Addictive disorder  Alcohol use disorder         37.775667   \n",
       "\n",
       "   AB.A.delta.b.FP2  AB.A.delta.c.F7  AB.A.delta.d.F3  AB.A.delta.e.Fz  \\\n",
       "0         21.717375        21.518280        26.825048        26.611516   \n",
       "1         11.002916        11.942516        15.272216        14.151570   \n",
       "2         27.544684        17.150159        23.608960        27.087811   \n",
       "3         21.846832        17.364316        13.833701        14.100954   \n",
       "4         33.607679        21.865556        21.771413        22.854536   \n",
       "\n",
       "   AB.A.delta.f.F4  AB.A.delta.g.F8  AB.A.delta.h.T3  ...  \\\n",
       "0        25.732649        16.563408        29.891368  ...   \n",
       "1        12.456034         8.436832         9.975238  ...   \n",
       "2        13.541237        16.523963        12.775574  ...   \n",
       "3        13.100939        14.613650         8.063191  ...   \n",
       "4        21.456377        15.969042         9.434306  ...   \n",
       "\n",
       "   COH.F.gamma.o.Pz.p.P4  COH.F.gamma.o.Pz.q.T6  COH.F.gamma.o.Pz.r.O1  \\\n",
       "0              55.989192              16.739679              23.452271   \n",
       "1              45.595619              17.510824              26.777368   \n",
       "2              99.475453              70.654171              39.131547   \n",
       "3              59.986561              63.822201              36.478254   \n",
       "4              61.462720              59.166097              51.465531   \n",
       "\n",
       "   COH.F.gamma.o.Pz.s.O2  COH.F.gamma.p.P4.q.T6  COH.F.gamma.p.P4.r.O1  \\\n",
       "0              45.678820              30.167520              16.918761   \n",
       "1              28.201062              57.108861              32.375401   \n",
       "2              69.920996              71.063644              38.534505   \n",
       "3              47.117006              84.658376              24.724096   \n",
       "4              58.635415              80.685608              62.138436   \n",
       "\n",
       "   COH.F.gamma.p.P4.s.O2  COH.F.gamma.q.T6.r.O1  COH.F.gamma.q.T6.s.O2  \\\n",
       "0              48.850427               9.422630              34.507082   \n",
       "1              60.351749              13.900981              57.831848   \n",
       "2              69.908764              27.180532              64.803155   \n",
       "3              50.299349              35.319695              79.822944   \n",
       "4              75.888749              61.003944              87.455509   \n",
       "\n",
       "   COH.F.gamma.r.O1.s.O2  \n",
       "0              28.613029  \n",
       "1              43.463261  \n",
       "2              31.485799  \n",
       "3              41.141873  \n",
       "4              70.531662  \n",
       "\n",
       "[5 rows x 1143 columns]"
      ]
     },
     "execution_count": 8,
     "metadata": {},
     "output_type": "execute_result"
    }
   ],
   "source": [
    "data.drop([\"sex\", \"no.\", \"age\", \"eeg.date\",\"education\", \"IQ\"], axis=1, inplace =True)\n",
    "data.head()"
   ]
  },
  {
   "cell_type": "code",
   "execution_count": 12,
   "id": "2182a800-3e9f-498f-9467-518ff9e01bc5",
   "metadata": {
    "tags": []
   },
   "outputs": [
    {
     "data": {
      "text/html": [
       "<div>\n",
       "<style scoped>\n",
       "    .dataframe tbody tr th:only-of-type {\n",
       "        vertical-align: middle;\n",
       "    }\n",
       "\n",
       "    .dataframe tbody tr th {\n",
       "        vertical-align: top;\n",
       "    }\n",
       "\n",
       "    .dataframe thead th {\n",
       "        text-align: right;\n",
       "    }\n",
       "</style>\n",
       "<table border=\"1\" class=\"dataframe\">\n",
       "  <thead>\n",
       "    <tr style=\"text-align: right;\">\n",
       "      <th></th>\n",
       "      <th>no.</th>\n",
       "      <th>sex</th>\n",
       "      <th>age</th>\n",
       "      <th>eeg.date</th>\n",
       "      <th>education</th>\n",
       "      <th>IQ</th>\n",
       "      <th>main_disorder</th>\n",
       "      <th>specific_disorder</th>\n",
       "      <th>AB.A.delta.a.FP1</th>\n",
       "      <th>AB.A.delta.b.FP2</th>\n",
       "      <th>...</th>\n",
       "      <th>COH.F.gamma.o.Pz.p.P4</th>\n",
       "      <th>COH.F.gamma.o.Pz.q.T6</th>\n",
       "      <th>COH.F.gamma.o.Pz.r.O1</th>\n",
       "      <th>COH.F.gamma.o.Pz.s.O2</th>\n",
       "      <th>COH.F.gamma.p.P4.q.T6</th>\n",
       "      <th>COH.F.gamma.p.P4.r.O1</th>\n",
       "      <th>COH.F.gamma.p.P4.s.O2</th>\n",
       "      <th>COH.F.gamma.q.T6.r.O1</th>\n",
       "      <th>COH.F.gamma.q.T6.s.O2</th>\n",
       "      <th>COH.F.gamma.r.O1.s.O2</th>\n",
       "    </tr>\n",
       "  </thead>\n",
       "  <tbody>\n",
       "    <tr>\n",
       "      <th>0</th>\n",
       "      <td>1</td>\n",
       "      <td>M</td>\n",
       "      <td>57.0</td>\n",
       "      <td>2012.8.30</td>\n",
       "      <td>NaN</td>\n",
       "      <td>NaN</td>\n",
       "      <td>Addictive disorder</td>\n",
       "      <td>Alcohol use disorder</td>\n",
       "      <td>35.998557</td>\n",
       "      <td>21.717375</td>\n",
       "      <td>...</td>\n",
       "      <td>55.989192</td>\n",
       "      <td>16.739679</td>\n",
       "      <td>23.452271</td>\n",
       "      <td>45.678820</td>\n",
       "      <td>30.167520</td>\n",
       "      <td>16.918761</td>\n",
       "      <td>48.850427</td>\n",
       "      <td>9.422630</td>\n",
       "      <td>34.507082</td>\n",
       "      <td>28.613029</td>\n",
       "    </tr>\n",
       "    <tr>\n",
       "      <th>1</th>\n",
       "      <td>2</td>\n",
       "      <td>M</td>\n",
       "      <td>37.0</td>\n",
       "      <td>2012.9.6</td>\n",
       "      <td>6.0</td>\n",
       "      <td>120.0</td>\n",
       "      <td>Addictive disorder</td>\n",
       "      <td>Alcohol use disorder</td>\n",
       "      <td>13.425118</td>\n",
       "      <td>11.002916</td>\n",
       "      <td>...</td>\n",
       "      <td>45.595619</td>\n",
       "      <td>17.510824</td>\n",
       "      <td>26.777368</td>\n",
       "      <td>28.201062</td>\n",
       "      <td>57.108861</td>\n",
       "      <td>32.375401</td>\n",
       "      <td>60.351749</td>\n",
       "      <td>13.900981</td>\n",
       "      <td>57.831848</td>\n",
       "      <td>43.463261</td>\n",
       "    </tr>\n",
       "    <tr>\n",
       "      <th>2</th>\n",
       "      <td>3</td>\n",
       "      <td>M</td>\n",
       "      <td>32.0</td>\n",
       "      <td>2012.9.10</td>\n",
       "      <td>16.0</td>\n",
       "      <td>113.0</td>\n",
       "      <td>Addictive disorder</td>\n",
       "      <td>Alcohol use disorder</td>\n",
       "      <td>29.941780</td>\n",
       "      <td>27.544684</td>\n",
       "      <td>...</td>\n",
       "      <td>99.475453</td>\n",
       "      <td>70.654171</td>\n",
       "      <td>39.131547</td>\n",
       "      <td>69.920996</td>\n",
       "      <td>71.063644</td>\n",
       "      <td>38.534505</td>\n",
       "      <td>69.908764</td>\n",
       "      <td>27.180532</td>\n",
       "      <td>64.803155</td>\n",
       "      <td>31.485799</td>\n",
       "    </tr>\n",
       "    <tr>\n",
       "      <th>3</th>\n",
       "      <td>4</td>\n",
       "      <td>M</td>\n",
       "      <td>35.0</td>\n",
       "      <td>2012.10.8</td>\n",
       "      <td>18.0</td>\n",
       "      <td>126.0</td>\n",
       "      <td>Addictive disorder</td>\n",
       "      <td>Alcohol use disorder</td>\n",
       "      <td>21.496226</td>\n",
       "      <td>21.846832</td>\n",
       "      <td>...</td>\n",
       "      <td>59.986561</td>\n",
       "      <td>63.822201</td>\n",
       "      <td>36.478254</td>\n",
       "      <td>47.117006</td>\n",
       "      <td>84.658376</td>\n",
       "      <td>24.724096</td>\n",
       "      <td>50.299349</td>\n",
       "      <td>35.319695</td>\n",
       "      <td>79.822944</td>\n",
       "      <td>41.141873</td>\n",
       "    </tr>\n",
       "    <tr>\n",
       "      <th>4</th>\n",
       "      <td>5</td>\n",
       "      <td>M</td>\n",
       "      <td>36.0</td>\n",
       "      <td>2012.10.18</td>\n",
       "      <td>16.0</td>\n",
       "      <td>112.0</td>\n",
       "      <td>Addictive disorder</td>\n",
       "      <td>Alcohol use disorder</td>\n",
       "      <td>37.775667</td>\n",
       "      <td>33.607679</td>\n",
       "      <td>...</td>\n",
       "      <td>61.462720</td>\n",
       "      <td>59.166097</td>\n",
       "      <td>51.465531</td>\n",
       "      <td>58.635415</td>\n",
       "      <td>80.685608</td>\n",
       "      <td>62.138436</td>\n",
       "      <td>75.888749</td>\n",
       "      <td>61.003944</td>\n",
       "      <td>87.455509</td>\n",
       "      <td>70.531662</td>\n",
       "    </tr>\n",
       "  </tbody>\n",
       "</table>\n",
       "<p>5 rows × 1149 columns</p>\n",
       "</div>"
      ],
      "text/plain": [
       "   no. sex   age    eeg.date  education     IQ       main_disorder  \\\n",
       "0    1   M  57.0   2012.8.30        NaN    NaN  Addictive disorder   \n",
       "1    2   M  37.0    2012.9.6        6.0  120.0  Addictive disorder   \n",
       "2    3   M  32.0   2012.9.10       16.0  113.0  Addictive disorder   \n",
       "3    4   M  35.0   2012.10.8       18.0  126.0  Addictive disorder   \n",
       "4    5   M  36.0  2012.10.18       16.0  112.0  Addictive disorder   \n",
       "\n",
       "      specific_disorder  AB.A.delta.a.FP1  AB.A.delta.b.FP2  ...  \\\n",
       "0  Alcohol use disorder         35.998557         21.717375  ...   \n",
       "1  Alcohol use disorder         13.425118         11.002916  ...   \n",
       "2  Alcohol use disorder         29.941780         27.544684  ...   \n",
       "3  Alcohol use disorder         21.496226         21.846832  ...   \n",
       "4  Alcohol use disorder         37.775667         33.607679  ...   \n",
       "\n",
       "   COH.F.gamma.o.Pz.p.P4  COH.F.gamma.o.Pz.q.T6  COH.F.gamma.o.Pz.r.O1  \\\n",
       "0              55.989192              16.739679              23.452271   \n",
       "1              45.595619              17.510824              26.777368   \n",
       "2              99.475453              70.654171              39.131547   \n",
       "3              59.986561              63.822201              36.478254   \n",
       "4              61.462720              59.166097              51.465531   \n",
       "\n",
       "   COH.F.gamma.o.Pz.s.O2  COH.F.gamma.p.P4.q.T6  COH.F.gamma.p.P4.r.O1  \\\n",
       "0              45.678820              30.167520              16.918761   \n",
       "1              28.201062              57.108861              32.375401   \n",
       "2              69.920996              71.063644              38.534505   \n",
       "3              47.117006              84.658376              24.724096   \n",
       "4              58.635415              80.685608              62.138436   \n",
       "\n",
       "   COH.F.gamma.p.P4.s.O2  COH.F.gamma.q.T6.r.O1  COH.F.gamma.q.T6.s.O2  \\\n",
       "0              48.850427               9.422630              34.507082   \n",
       "1              60.351749              13.900981              57.831848   \n",
       "2              69.908764              27.180532              64.803155   \n",
       "3              50.299349              35.319695              79.822944   \n",
       "4              75.888749              61.003944              87.455509   \n",
       "\n",
       "   COH.F.gamma.r.O1.s.O2  \n",
       "0              28.613029  \n",
       "1              43.463261  \n",
       "2              31.485799  \n",
       "3              41.141873  \n",
       "4              70.531662  \n",
       "\n",
       "[5 rows x 1149 columns]"
      ]
     },
     "execution_count": 12,
     "metadata": {},
     "output_type": "execute_result"
    }
   ],
   "source": [
    "data.rename(columns={\"main.disorder\":\"main_disorder\"}, inplace = True)\n",
    "data.rename(columns={\"specific.disorder\":\"specific_disorder\"}, inplace = True)\n",
    "data.head()"
   ]
  },
  {
   "cell_type": "code",
   "execution_count": 10,
   "id": "40f5a88d-606a-47b9-9b1e-a5d7055e4c11",
   "metadata": {
    "tags": []
   },
   "outputs": [
    {
     "name": "stdout",
     "output_type": "stream",
     "text": [
      "1\n",
      "['Unnamed: 122']\n"
     ]
    }
   ],
   "source": [
    "features_with_null=list(data.columns[data.isna().any()])\n",
    "print(len(features_with_null))\n",
    "print(features_with_null)"
   ]
  },
  {
   "cell_type": "code",
   "execution_count": 11,
   "id": "bfe5b076-289f-47a3-b63c-aa1dbb71fedd",
   "metadata": {
    "tags": []
   },
   "outputs": [
    {
     "data": {
      "text/plain": [
       "array([nan])"
      ]
     },
     "execution_count": 11,
     "metadata": {},
     "output_type": "execute_result"
    }
   ],
   "source": [
    "data['Unnamed: 122'].unique()"
   ]
  },
  {
   "cell_type": "code",
   "execution_count": 12,
   "id": "5e57b9fb-4b73-4d33-b66f-63d52bc510d5",
   "metadata": {
    "tags": []
   },
   "outputs": [],
   "source": [
    "data = data.drop(columns=['Unnamed: 122'])"
   ]
  },
  {
   "cell_type": "code",
   "execution_count": 13,
   "id": "d319576c-90be-4005-afb4-824507316ff0",
   "metadata": {
    "tags": []
   },
   "outputs": [
    {
     "data": {
      "text/plain": [
       "['Addictive disorder',\n",
       " 'Trauma and stress related disorder',\n",
       " 'Mood disorder',\n",
       " 'Healthy control',\n",
       " 'Obsessive compulsive disorder',\n",
       " 'Schizophrenia',\n",
       " 'Anxiety disorder']"
      ]
     },
     "execution_count": 13,
     "metadata": {},
     "output_type": "execute_result"
    }
   ],
   "source": [
    "main_disorders = list(data.main_disorder.unique())\n",
    "main_disorders"
   ]
  },
  {
   "cell_type": "code",
   "execution_count": 14,
   "id": "c230486f-6352-4d1e-aed2-adc18b60793c",
   "metadata": {
    "tags": []
   },
   "outputs": [
    {
     "data": {
      "text/plain": [
       "['Alcohol use disorder',\n",
       " 'Acute stress disorder',\n",
       " 'Depressive disorder',\n",
       " 'Healthy control',\n",
       " 'Behavioral addiction disorder',\n",
       " 'Obsessive compulsitve disorder',\n",
       " 'Schizophrenia',\n",
       " 'Panic disorder',\n",
       " 'Social anxiety disorder',\n",
       " 'Posttraumatic stress disorder',\n",
       " 'Adjustment disorder',\n",
       " 'Bipolar disorder']"
      ]
     },
     "execution_count": 14,
     "metadata": {},
     "output_type": "execute_result"
    }
   ],
   "source": [
    "specific_disorders = list(data.specific_disorder.unique())\n",
    "specific_disorders"
   ]
  },
  {
   "cell_type": "code",
   "execution_count": 15,
   "id": "ecc6e048-268e-45f8-b443-8d7c9f03c9d7",
   "metadata": {
    "tags": []
   },
   "outputs": [],
   "source": [
    "data.drop([\"main_disorder\"], axis=1, inplace =True)"
   ]
  },
  {
   "cell_type": "code",
   "execution_count": 16,
   "id": "5b5dc127-be5b-40bf-9897-966ed0e28d20",
   "metadata": {
    "tags": []
   },
   "outputs": [
    {
     "data": {
      "text/plain": [
       "(945, 1141)"
      ]
     },
     "execution_count": 16,
     "metadata": {},
     "output_type": "execute_result"
    }
   ],
   "source": [
    "data.shape"
   ]
  },
  {
   "cell_type": "code",
   "execution_count": 18,
   "id": "bfd893da-bef1-424e-9c40-69cc14cf0aeb",
   "metadata": {
    "tags": []
   },
   "outputs": [],
   "source": [
    "from sklearn.model_selection import train_test_split\n",
    "from sklearn.preprocessing import LabelEncoder\n",
    "\n",
    "y = data.iloc[:, 0].values.ravel()\n",
    "X = data.iloc[:, 1:].values\n",
    "\n",
    "\n",
    "le = LabelEncoder()\n",
    "y_encoded = le.fit_transform(y)\n",
    "#Y = pd.DataFrame(y_encoded)\n",
    "Y = y_encoded"
   ]
  },
  {
   "cell_type": "code",
   "execution_count": 19,
   "id": "24048c83-a119-45df-87eb-a65c4118b048",
   "metadata": {
    "tags": []
   },
   "outputs": [],
   "source": [
    "from sklearn.preprocessing import StandardScaler\n",
    "x_train, x_test, y_train, y_test = train_test_split(X, Y, test_size=0.2, stratify=y, random_state=420)\n",
    "\n",
    "scaler = StandardScaler()\n",
    "x_train = scaler.fit_transform(x_train)\n",
    "x_test = scaler.transform(x_test)"
   ]
  },
  {
   "cell_type": "code",
   "execution_count": 20,
   "id": "2e81ffa2-7657-45d8-b29f-3fcf915938ca",
   "metadata": {
    "tags": []
   },
   "outputs": [
    {
     "name": "stdout",
     "output_type": "stream",
     "text": [
      "=== Logistic Regression ===\n",
      "              precision    recall  f1-score   support\n",
      "\n",
      "           0       0.00      0.00      0.00         7\n",
      "           1       0.00      0.00      0.00         8\n",
      "           2       0.08      0.05      0.06        19\n",
      "           3       0.40      0.32      0.35        19\n",
      "           4       0.12      0.15      0.13        13\n",
      "           5       0.23      0.23      0.23        40\n",
      "           6       0.45      0.53      0.49        19\n",
      "           7       0.12      0.11      0.12         9\n",
      "           8       0.08      0.08      0.08        12\n",
      "           9       0.00      0.00      0.00        10\n",
      "          10       0.08      0.13      0.10        23\n",
      "          11       0.00      0.00      0.00        10\n",
      "\n",
      "    accuracy                           0.17       189\n",
      "   macro avg       0.13      0.13      0.13       189\n",
      "weighted avg       0.17      0.17      0.17       189\n",
      "\n"
     ]
    },
    {
     "name": "stderr",
     "output_type": "stream",
     "text": [
      "C:\\Users\\Namayan\\anaconda3\\Lib\\site-packages\\sklearn\\linear_model\\_logistic.py:460: ConvergenceWarning: lbfgs failed to converge (status=1):\n",
      "STOP: TOTAL NO. of ITERATIONS REACHED LIMIT.\n",
      "\n",
      "Increase the number of iterations (max_iter) or scale the data as shown in:\n",
      "    https://scikit-learn.org/stable/modules/preprocessing.html\n",
      "Please also refer to the documentation for alternative solver options:\n",
      "    https://scikit-learn.org/stable/modules/linear_model.html#logistic-regression\n",
      "  n_iter_i = _check_optimize_result(\n"
     ]
    }
   ],
   "source": [
    "from sklearn.linear_model import LogisticRegression\n",
    "from sklearn.metrics import classification_report\n",
    "\n",
    "# Train logistic regression\n",
    "lr = LogisticRegression(class_weight='balanced', max_iter=100)\n",
    "lr.fit(x_train, y_train)\n",
    "\n",
    "# Predict & evaluate\n",
    "y_pred = lr.predict(x_test)\n",
    "print(\"=== Logistic Regression ===\")\n",
    "print(classification_report(y_test, y_pred))"
   ]
  },
  {
   "cell_type": "code",
   "execution_count": 21,
   "id": "d63ac8d1-368d-46cc-9118-ce8c2a7ef1d6",
   "metadata": {
    "tags": []
   },
   "outputs": [
    {
     "name": "stdout",
     "output_type": "stream",
     "text": [
      "=== Logistic Regression ===\n",
      "              precision    recall  f1-score   support\n",
      "\n",
      "           0       0.00      0.00      0.00         7\n",
      "           1       0.00      0.00      0.00         8\n",
      "           2       0.08      0.05      0.06        19\n",
      "           3       0.40      0.32      0.35        19\n",
      "           4       0.12      0.15      0.13        13\n",
      "           5       0.23      0.23      0.23        40\n",
      "           6       0.45      0.53      0.49        19\n",
      "           7       0.12      0.11      0.12         9\n",
      "           8       0.08      0.08      0.08        12\n",
      "           9       0.00      0.00      0.00        10\n",
      "          10       0.08      0.13      0.10        23\n",
      "          11       0.00      0.00      0.00        10\n",
      "\n",
      "    accuracy                           0.17       189\n",
      "   macro avg       0.13      0.13      0.13       189\n",
      "weighted avg       0.17      0.17      0.17       189\n",
      "\n"
     ]
    },
    {
     "name": "stderr",
     "output_type": "stream",
     "text": [
      "C:\\Users\\Namayan\\anaconda3\\Lib\\site-packages\\sklearn\\linear_model\\_logistic.py:460: ConvergenceWarning: lbfgs failed to converge (status=1):\n",
      "STOP: TOTAL NO. of ITERATIONS REACHED LIMIT.\n",
      "\n",
      "Increase the number of iterations (max_iter) or scale the data as shown in:\n",
      "    https://scikit-learn.org/stable/modules/preprocessing.html\n",
      "Please also refer to the documentation for alternative solver options:\n",
      "    https://scikit-learn.org/stable/modules/linear_model.html#logistic-regression\n",
      "  n_iter_i = _check_optimize_result(\n"
     ]
    }
   ],
   "source": [
    "#from imblearn.over_sampling import SMOTE\n",
    "\n",
    "#smote = SMOTE(random_state=42)\n",
    "#x_train_resampled, y_train_resampled = smote.fit_resample(x_train, y_train)\n",
    "\n",
    "# Train logistic regression\n",
    "lr = LogisticRegression(class_weight='balanced', max_iter=100)\n",
    "lr.fit(x_train, y_train)\n",
    "\n",
    "# Predict & evaluate\n",
    "y_pred = lr.predict(x_test)\n",
    "print(\"=== Logistic Regression ===\")\n",
    "print(classification_report(y_test, y_pred))"
   ]
  },
  {
   "cell_type": "code",
   "execution_count": 22,
   "id": "cb9f38ec-c1a6-4241-8691-d93f6c92fb6b",
   "metadata": {
    "tags": []
   },
   "outputs": [
    {
     "name": "stdout",
     "output_type": "stream",
     "text": [
      "=== Random Forest Classifier ===\n",
      "              precision    recall  f1-score   support\n",
      "\n",
      "           0       0.00      0.00      0.00         7\n",
      "           1       0.00      0.00      0.00         8\n",
      "           2       0.08      0.05      0.06        19\n",
      "           3       0.10      0.05      0.07        19\n",
      "           4       0.00      0.00      0.00        13\n",
      "           5       0.24      0.75      0.37        40\n",
      "           6       0.38      0.26      0.31        19\n",
      "           7       0.00      0.00      0.00         9\n",
      "           8       0.00      0.00      0.00        12\n",
      "           9       0.00      0.00      0.00        10\n",
      "          10       0.10      0.09      0.09        23\n",
      "          11       0.00      0.00      0.00        10\n",
      "\n",
      "    accuracy                           0.21       189\n",
      "   macro avg       0.08      0.10      0.08       189\n",
      "weighted avg       0.12      0.21      0.13       189\n",
      "\n"
     ]
    },
    {
     "name": "stderr",
     "output_type": "stream",
     "text": [
      "C:\\Users\\Namayan\\anaconda3\\Lib\\site-packages\\sklearn\\metrics\\_classification.py:1469: UndefinedMetricWarning: Precision and F-score are ill-defined and being set to 0.0 in labels with no predicted samples. Use `zero_division` parameter to control this behavior.\n",
      "  _warn_prf(average, modifier, msg_start, len(result))\n",
      "C:\\Users\\Namayan\\anaconda3\\Lib\\site-packages\\sklearn\\metrics\\_classification.py:1469: UndefinedMetricWarning: Precision and F-score are ill-defined and being set to 0.0 in labels with no predicted samples. Use `zero_division` parameter to control this behavior.\n",
      "  _warn_prf(average, modifier, msg_start, len(result))\n",
      "C:\\Users\\Namayan\\anaconda3\\Lib\\site-packages\\sklearn\\metrics\\_classification.py:1469: UndefinedMetricWarning: Precision and F-score are ill-defined and being set to 0.0 in labels with no predicted samples. Use `zero_division` parameter to control this behavior.\n",
      "  _warn_prf(average, modifier, msg_start, len(result))\n"
     ]
    }
   ],
   "source": [
    "from sklearn.ensemble import RandomForestClassifier\n",
    "\n",
    "# Train random forest\n",
    "rf = RandomForestClassifier(n_estimators=100, random_state=420)\n",
    "rf.fit(x_train, y_train)\n",
    "\n",
    "# Predict & evaluate\n",
    "y_pred_rf = rf.predict(x_test)\n",
    "\n",
    "print(\"=== Random Forest Classifier ===\")\n",
    "print(classification_report(y_test, y_pred_rf))"
   ]
  },
  {
   "cell_type": "code",
   "execution_count": 23,
   "id": "cd5da384-c5a8-42d2-a53f-d398e5bf9e5f",
   "metadata": {
    "tags": []
   },
   "outputs": [
    {
     "name": "stdout",
     "output_type": "stream",
     "text": [
      "              precision    recall  f1-score   support\n",
      "\n",
      "           0       0.00      0.00      0.00         7\n",
      "           1       0.11      0.12      0.12         8\n",
      "           2       0.15      0.26      0.19        19\n",
      "           3       0.23      0.16      0.19        19\n",
      "           4       0.08      0.08      0.08        13\n",
      "           5       0.25      0.38      0.30        40\n",
      "           6       0.45      0.26      0.33        19\n",
      "           7       0.00      0.00      0.00         9\n",
      "           8       0.40      0.17      0.24        12\n",
      "           9       0.00      0.00      0.00        10\n",
      "          10       0.05      0.04      0.05        23\n",
      "          11       0.00      0.00      0.00        10\n",
      "\n",
      "    accuracy                           0.17       189\n",
      "   macro avg       0.14      0.12      0.12       189\n",
      "weighted avg       0.18      0.17      0.17       189\n",
      "\n"
     ]
    }
   ],
   "source": [
    "from sklearn.neighbors import KNeighborsClassifier\n",
    "\n",
    "knn_model = KNeighborsClassifier(n_neighbors = 5)\n",
    "knn_model.fit(x_train,y_train)\n",
    "y_pred = knn_model.predict(x_test)\n",
    "\n",
    "print(classification_report(y_test,y_pred))"
   ]
  },
  {
   "cell_type": "code",
   "execution_count": 6,
   "id": "6ecdade6-acf0-4ba3-975b-2a33acb3a1da",
   "metadata": {},
   "outputs": [
    {
     "data": {
      "image/png": "[encoded data removed]",
      "text/plain": [
       "<Figure size 800x600 with 1 Axes>"
      ]
     },
     "metadata": {},
     "output_type": "display_data"
    }
   ],
   "source": [
    "import matplotlib.pyplot as plt\n",
    "\n",
    "# Algorithm names and their accuracies\n",
    "algorithms = ['LR', 'RF', 'KNN', 'SVC']\n",
    "accuracies = [0.17, 0.21, 0.17, 0.17]  # example accuracies\n",
    "\n",
    "# Create bar chart\n",
    "plt.figure(figsize=(8, 6))\n",
    "bars = plt.bar(algorithms, accuracies)\n",
    "\n",
    "# Add labels and title\n",
    "plt.xlabel('Algorithms')\n",
    "plt.ylabel('Accuracy')\n",
    "plt.title('Accuracy Comparison of Different Algorithms')\n",
    "plt.ylim(0, 1)  # accuracy range from 0 to 1\n",
    "\n",
    "# Add accuracy values on top of bars\n",
    "for bar in bars:\n",
    "    yval = bar.get_height()\n",
    "    plt.text(bar.get_x() + bar.get_width()/2, yval + 0.01, f'{yval:.2f}', ha='center', va='bottom')\n",
    "\n",
    "# Show chart\n",
    "plt.show()\n"
   ]
  },
  {
   "cell_type": "code",
   "execution_count": 24,
   "id": "725f3792-8f2a-47e1-8787-f7ad5e2afb55",
   "metadata": {
    "tags": []
   },
   "outputs": [
    {
     "name": "stdout",
     "output_type": "stream",
     "text": [
      "(array(['Acute stress disorder', 'Adjustment disorder',\n",
      "       'Alcohol use disorder', 'Behavioral addiction disorder',\n",
      "       'Bipolar disorder', 'Depressive disorder', 'Healthy control',\n",
      "       'Obsessive compulsitve disorder', 'Panic disorder',\n",
      "       'Posttraumatic stress disorder', 'Schizophrenia',\n",
      "       'Social anxiety disorder'], dtype=object), array([ 38,  38,  93,  93,  67, 199,  95,  46,  59,  52, 117,  48],\n",
      "      dtype=int64))\n"
     ]
    }
   ],
   "source": [
    "print(np.unique(y, return_counts=True))  # class imbalance?"
   ]
  },
  {
   "cell_type": "code",
   "execution_count": 25,
   "id": "b19c857b-15a0-4e72-9cfb-941495f11bc9",
   "metadata": {
    "tags": []
   },
   "outputs": [
    {
     "data": {
      "text/plain": [
       "Counter({2: 93,\n",
       "         0: 38,\n",
       "         5: 199,\n",
       "         6: 95,\n",
       "         3: 93,\n",
       "         7: 46,\n",
       "         10: 117,\n",
       "         8: 59,\n",
       "         11: 48,\n",
       "         9: 52,\n",
       "         1: 38,\n",
       "         4: 67})"
      ]
     },
     "execution_count": 25,
     "metadata": {},
     "output_type": "execute_result"
    }
   ],
   "source": [
    "import collections\n",
    "collections.Counter(Y) #2,3,5,6,10"
   ]
  },
  {
   "cell_type": "code",
   "execution_count": 26,
   "id": "a5d77fec-d5cd-48e3-a864-d970c66b1ef9",
   "metadata": {
    "tags": []
   },
   "outputs": [
    {
     "data": {
      "text/plain": [
       "Counter({'Alcohol use disorder': 93,\n",
       "         'Acute stress disorder': 38,\n",
       "         'Depressive disorder': 199,\n",
       "         'Healthy control': 95,\n",
       "         'Behavioral addiction disorder': 93,\n",
       "         'Obsessive compulsitve disorder': 46,\n",
       "         'Schizophrenia': 117,\n",
       "         'Panic disorder': 59,\n",
       "         'Social anxiety disorder': 48,\n",
       "         'Posttraumatic stress disorder': 52,\n",
       "         'Adjustment disorder': 38,\n",
       "         'Bipolar disorder': 67})"
      ]
     },
     "execution_count": 26,
     "metadata": {},
     "output_type": "execute_result"
    }
   ],
   "source": [
    "collections.Counter(y)"
   ]
  },
  {
   "cell_type": "code",
   "execution_count": 35,
   "id": "5d3fa9b2-1508-4bae-863a-7a05f17747bf",
   "metadata": {
    "tags": []
   },
   "outputs": [],
   "source": [
    "classes_to_keep = ['Alcohol use disorder', 'Behavioral addiction disorder', 'Depressive disorder', 'Healthy control', 'Schizophrenia']\n",
    "data_filtered = data[data['specific_disorder'].isin(classes_to_keep)]\n",
    "\n",
    "# Then split into features and labels\n",
    "x_filtered = data_filtered.drop(columns=['specific_disorder']).values\n",
    "y_filtered = data_filtered['specific_disorder'].values.ravel()"
   ]
  },
  {
   "cell_type": "code",
   "execution_count": 37,
   "id": "26ba77ae-816b-457f-8f27-d0a7de96cee5",
   "metadata": {
    "tags": []
   },
   "outputs": [],
   "source": [
    "x_train, x_test, y_train, y_test = train_test_split(x_filtered, y_filtered, test_size=0.2, stratify=y_filtered, random_state=420)\n",
    "\n",
    "scaler = StandardScaler()\n",
    "x_train = scaler.fit_transform(x_train)\n",
    "x_test = scaler.transform(x_test)"
   ]
  },
  {
   "cell_type": "code",
   "execution_count": 38,
   "id": "831e25c6-b9a5-48e4-ac58-8f0ae3192c1e",
   "metadata": {},
   "outputs": [
    {
     "name": "stdout",
     "output_type": "stream",
     "text": [
      "=== Logistic Regression ===\n",
      "                               precision    recall  f1-score   support\n",
      "\n",
      "         Alcohol use disorder       0.14      0.11      0.12        19\n",
      "Behavioral addiction disorder       0.50      0.26      0.34        19\n",
      "          Depressive disorder       0.37      0.55      0.44        40\n",
      "              Healthy control       0.65      0.58      0.61        19\n",
      "                Schizophrenia       0.20      0.17      0.19        23\n",
      "\n",
      "                     accuracy                           0.37       120\n",
      "                    macro avg       0.37      0.33      0.34       120\n",
      "                 weighted avg       0.37      0.37      0.35       120\n",
      "\n"
     ]
    },
    {
     "name": "stderr",
     "output_type": "stream",
     "text": [
      "C:\\Users\\Namayan\\anaconda3\\Lib\\site-packages\\sklearn\\linear_model\\_logistic.py:460: ConvergenceWarning: lbfgs failed to converge (status=1):\n",
      "STOP: TOTAL NO. of ITERATIONS REACHED LIMIT.\n",
      "\n",
      "Increase the number of iterations (max_iter) or scale the data as shown in:\n",
      "    https://scikit-learn.org/stable/modules/preprocessing.html\n",
      "Please also refer to the documentation for alternative solver options:\n",
      "    https://scikit-learn.org/stable/modules/linear_model.html#logistic-regression\n",
      "  n_iter_i = _check_optimize_result(\n"
     ]
    }
   ],
   "source": [
    "# Train logistic regression\n",
    "lr = LogisticRegression(class_weight='balanced', max_iter=100)\n",
    "lr.fit(x_train, y_train)\n",
    "\n",
    "# Predict & evaluate\n",
    "y_pred = lr.predict(x_test)\n",
    "print(\"=== Logistic Regression ===\")\n",
    "print(classification_report(y_test, y_pred))"
   ]
  },
  {
   "cell_type": "code",
   "execution_count": 39,
   "id": "6510d3dd-e5cb-4481-b572-e3bcd2e54126",
   "metadata": {},
   "outputs": [
    {
     "name": "stdout",
     "output_type": "stream",
     "text": [
      "=== Random Forest Classifier ===\n",
      "                               precision    recall  f1-score   support\n",
      "\n",
      "         Alcohol use disorder       0.00      0.00      0.00        19\n",
      "Behavioral addiction disorder       0.44      0.21      0.29        19\n",
      "          Depressive disorder       0.37      0.80      0.50        40\n",
      "              Healthy control       0.89      0.42      0.57        19\n",
      "                Schizophrenia       0.15      0.09      0.11        23\n",
      "\n",
      "                     accuracy                           0.38       120\n",
      "                    macro avg       0.37      0.30      0.29       120\n",
      "                 weighted avg       0.36      0.38      0.32       120\n",
      "\n"
     ]
    }
   ],
   "source": [
    "from sklearn.ensemble import RandomForestClassifier\n",
    "\n",
    "# Train random forest\n",
    "rf = RandomForestClassifier(n_estimators=100, random_state=420)\n",
    "rf.fit(x_train, y_train)\n",
    "\n",
    "# Predict & evaluate\n",
    "y_pred_rf = rf.predict(x_test)\n",
    "\n",
    "print(\"=== Random Forest Classifier ===\")\n",
    "print(classification_report(y_test, y_pred_rf))"
   ]
  },
  {
   "cell_type": "code",
   "execution_count": 40,
   "id": "96bb1bdf-2a51-4c91-81de-b5462ce52852",
   "metadata": {
    "tags": []
   },
   "outputs": [
    {
     "name": "stdout",
     "output_type": "stream",
     "text": [
      "                               precision    recall  f1-score   support\n",
      "\n",
      "         Alcohol use disorder       0.18      0.21      0.20        19\n",
      "Behavioral addiction disorder       0.28      0.26      0.27        19\n",
      "          Depressive disorder       0.40      0.47      0.43        40\n",
      "              Healthy control       0.62      0.42      0.50        19\n",
      "                Schizophrenia       0.26      0.22      0.24        23\n",
      "\n",
      "                     accuracy                           0.34       120\n",
      "                    macro avg       0.35      0.32      0.33       120\n",
      "                 weighted avg       0.35      0.34      0.34       120\n",
      "\n"
     ]
    }
   ],
   "source": [
    "from sklearn.neighbors import KNeighborsClassifier\n",
    "\n",
    "knn_model = KNeighborsClassifier(n_neighbors = 5)\n",
    "knn_model.fit(x_train,y_train)\n",
    "y_pred = knn_model.predict(x_test)\n",
    "\n",
    "print(classification_report(y_test,y_pred))"
   ]
  },
  {
   "cell_type": "code",
   "execution_count": 42,
   "id": "445073b1-99e0-4ff3-b2bf-a3ccc19e8a34",
   "metadata": {
    "tags": []
   },
   "outputs": [
    {
     "name": "stdout",
     "output_type": "stream",
     "text": [
      "                               precision    recall  f1-score   support\n",
      "\n",
      "         Alcohol use disorder       0.00      0.00      0.00        19\n",
      "Behavioral addiction disorder       0.60      0.16      0.25        19\n",
      "          Depressive disorder       0.35      0.93      0.51        40\n",
      "              Healthy control       0.78      0.37      0.50        19\n",
      "                Schizophrenia       0.00      0.00      0.00        23\n",
      "\n",
      "                     accuracy                           0.39       120\n",
      "                    macro avg       0.35      0.29      0.25       120\n",
      "                 weighted avg       0.34      0.39      0.29       120\n",
      "\n"
     ]
    },
    {
     "name": "stderr",
     "output_type": "stream",
     "text": [
      "C:\\Users\\Namayan\\anaconda3\\Lib\\site-packages\\sklearn\\metrics\\_classification.py:1469: UndefinedMetricWarning: Precision and F-score are ill-defined and being set to 0.0 in labels with no predicted samples. Use `zero_division` parameter to control this behavior.\n",
      "  _warn_prf(average, modifier, msg_start, len(result))\n",
      "C:\\Users\\Namayan\\anaconda3\\Lib\\site-packages\\sklearn\\metrics\\_classification.py:1469: UndefinedMetricWarning: Precision and F-score are ill-defined and being set to 0.0 in labels with no predicted samples. Use `zero_division` parameter to control this behavior.\n",
      "  _warn_prf(average, modifier, msg_start, len(result))\n",
      "C:\\Users\\Namayan\\anaconda3\\Lib\\site-packages\\sklearn\\metrics\\_classification.py:1469: UndefinedMetricWarning: Precision and F-score are ill-defined and being set to 0.0 in labels with no predicted samples. Use `zero_division` parameter to control this behavior.\n",
      "  _warn_prf(average, modifier, msg_start, len(result))\n"
     ]
    }
   ],
   "source": [
    "from sklearn.svm import SVC\n",
    "\n",
    "# Train SVC\n",
    "svc_model = SVC(kernel='rbf', C=1, gamma='scale', random_state=420)\n",
    "svc_model.fit(x_train, y_train)\n",
    "\n",
    "# Make predictions\n",
    "y_pred = svc_model.predict(x_test)\n",
    "\n",
    "# Evaluate\n",
    "print(classification_report(y_test, y_pred))"
   ]
  },
  {
   "cell_type": "code",
   "execution_count": 5,
   "id": "2ff69e61-83d4-4315-a6de-1a7fbfed057a",
   "metadata": {},
   "outputs": [
    {
     "data": {
      "image/png": "[encoded data removed]",
      "text/plain": [
       "<Figure size 800x600 with 1 Axes>"
      ]
     },
     "metadata": {},
     "output_type": "display_data"
    }
   ],
   "source": [
    "import matplotlib.pyplot as plt\n",
    "\n",
    "# Algorithm names and their accuracies\n",
    "algorithms = ['LR', 'RF', 'KNN', 'SVC']\n",
    "accuracies = [0.37, 0.38, 0.34, 0.39]  # example accuracies\n",
    "\n",
    "# Create bar chart\n",
    "plt.figure(figsize=(8, 6))\n",
    "bars = plt.bar(algorithms, accuracies)\n",
    "\n",
    "# Add labels and title\n",
    "plt.xlabel('Algorithms')\n",
    "plt.ylabel('Accuracy')\n",
    "plt.title('Accuracy Comparison of Different Algorithms')\n",
    "plt.ylim(0, 1)  # accuracy range from 0 to 1\n",
    "\n",
    "# Add accuracy values on top of bars\n",
    "for bar in bars:\n",
    "    yval = bar.get_height()\n",
    "    plt.text(bar.get_x() + bar.get_width()/2, yval + 0.01, f'{yval:.2f}', ha='center', va='bottom')\n",
    "\n",
    "\n",
    "# Show chart\n",
    "plt.show()\n"
   ]
  },
  {
   "cell_type": "code",
   "execution_count": null,
   "id": "5ec18630-572f-4aef-8539-ef75d8c0fe60",
   "metadata": {},
   "outputs": [],
   "source": []
  }
 ],
 "metadata": {
  "kernelspec": {
   "display_name": "Python 3 (ipykernel)",
   "language": "python",
   "name": "python3"
  },
  "language_info": {
   "codemirror_mode": {
    "name": "ipython",
    "version": 3
   },
   "file_extension": ".py",
   "mimetype": "text/x-python",
   "name": "python",
   "nbconvert_exporter": "python",
   "pygments_lexer": "ipython3",
   "version": "3.11.4"
  }
 },
 "nbformat": 4,
 "nbformat_minor": 5
}
